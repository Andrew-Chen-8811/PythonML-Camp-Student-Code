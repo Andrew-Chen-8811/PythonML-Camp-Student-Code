{
 "cells": [
  {
   "cell_type": "code",
   "execution_count": null,
   "id": "c92fe2f6",
   "metadata": {},
   "outputs": [],
   "source": [
    "import sys\n",
    "!{sys.executable} -m pip install numpy\n",
    "!{sys.executable} -m pip install pandas\n",
    "!{sys.executable} -m pip install matplotlib\n",
    "!{sys.executable} -m pip install seaborn\n",
    "!{sys.executable} -m pip install scikit-learn\n",
    "!{sys.executable} -m pip install aquarel"
   ]
  }
 ],
 "metadata": {
  "language_info": {
   "name": "python"
  }
 },
 "nbformat": 4,
 "nbformat_minor": 5
}
