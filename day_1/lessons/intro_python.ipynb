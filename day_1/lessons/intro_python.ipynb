{
 "cells": [
  {
   "cell_type": "markdown",
   "id": "e8939e7d",
   "metadata": {},
   "source": [
    "# Introduction to Python and Jupyter\n",
    "\n",
    "Use the ` + Code` button to add a new code cell to execute code in!"
   ]
  },
  {
   "cell_type": "code",
   "execution_count": 14,
   "id": "93cc63ad",
   "metadata": {},
   "outputs": [
    {
     "name": "stdout",
     "output_type": "stream",
     "text": [
      "The sacred number is 29?\n",
      "The sacred statement is Prav is steuuuuuuupitt\n"
     ]
    }
   ],
   "source": [
    "num = 29\n",
    "string = \"Prav is steuuuuuuupitt\"\n",
    "print(f\"The sacred number is {num}?\")\n",
    "print(f\"The sacred statement is {string}\")"
   ]
  },
  {
   "cell_type": "code",
   "execution_count": 21,
   "id": "66fc4a0d",
   "metadata": {},
   "outputs": [
    {
     "name": "stdout",
     "output_type": "stream",
     "text": [
      "32\n",
      "26\n",
      "87\n",
      "9.666666666666666\n",
      "9\n",
      "2\n",
      "24389\n"
     ]
    }
   ],
   "source": [
    "a = 29\n",
    "b = 3\n",
    "add = a + b\n",
    "sub = a - b\n",
    "multiply = a * b\n",
    "divide = a / b\n",
    "floor_divide = a // b\n",
    "modulus = a % b\n",
    "power = a ** b\n",
    "print(add)\n",
    "print (sub)\n",
    "print (multiply)\n",
    "print (divide)\n",
    "print (floor_divide)\n",
    "print (modulus)\n",
    "print (power)"
   ]
  },
  {
   "cell_type": "code",
   "execution_count": null,
   "id": "18805b0f",
   "metadata": {},
   "outputs": [],
   "source": [
    "boolean stuff"
   ]
  },
  {
   "cell_type": "code",
   "execution_count": null,
   "id": "e10b30ef",
   "metadata": {},
   "outputs": [],
   "source": [
    "if stuff"
   ]
  },
  {
   "cell_type": "code",
   "execution_count": 38,
   "id": "fc033389",
   "metadata": {},
   "outputs": [
    {
     "name": "stdout",
     "output_type": "stream",
     "text": [
      "2\n",
      "carrots\n"
     ]
    }
   ],
   "source": [
    "numbers = 2, 13, 17, 29, 42\n",
    "groceries = [\"apples\", \"bananas\", \"carrots\"]\n",
    "print(numbers[0])\n",
    "print(groceries[2])"
   ]
  },
  {
   "cell_type": "code",
   "execution_count": null,
   "id": "0ec22556",
   "metadata": {},
   "outputs": [
    {
     "name": "stdout",
     "output_type": "stream",
     "text": [
      "x is 0\n",
      "x is 1\n",
      "x is 2\n",
      "x is 3\n",
      "x is 4\n"
     ]
    }
   ],
   "source": [
    "x = 0\n",
    "while x < 5:\n",
    "    print(\"x is\", x)\n",
    "    x += 1\n",
    "# While loop"
   ]
  },
  {
   "cell_type": "code",
   "execution_count": null,
   "id": "99277b91",
   "metadata": {},
   "outputs": [
    {
     "name": "stdout",
     "output_type": "stream",
     "text": [
      "1\n",
      "2\n",
      "3\n",
      "4\n",
      "5\n"
     ]
    }
   ],
   "source": [
    "numbers = [1, 2, 3, 4, 5]\n",
    "for x in numbers:\n",
    "    print(x)\n",
    "# For loop"
   ]
  },
  {
   "cell_type": "code",
   "execution_count": null,
   "id": "cab5c590",
   "metadata": {},
   "outputs": [
    {
     "name": "stdout",
     "output_type": "stream",
     "text": [
      "3\n",
      "Hi\n"
     ]
    }
   ],
   "source": [
    "def main(x=1, y = \"Hello\"):\n",
    "    print(x)\n",
    "    print(y)\n",
    "main(x=3, y=\"Hi\")\n",
    "# Void Function"
   ]
  },
  {
   "cell_type": "code",
   "execution_count": 9,
   "id": "f6ee54fa",
   "metadata": {},
   "outputs": [],
   "source": [
    "def can_ride_roller_coaster(height):\n",
    "    if height >= 54:\n",
    "        return \"Yes\"\n",
    "    else:\n",
    "        return \"Yesn't\"\n",
    "# Return Function"
   ]
  },
  {
   "cell_type": "code",
   "execution_count": null,
   "id": "a96f6e82",
   "metadata": {},
   "outputs": [
    {
     "name": "stdout",
     "output_type": "stream",
     "text": [
      "{'andrew': 1, 'boxy': 2, 'chad': 3, 'dates': 4, 'edging': 5}\n",
      "1\n"
     ]
    }
   ],
   "source": [
    "groceries = {\n",
    "    \"andrew\" : 1,\n",
    "    \"boxy\": 2,\n",
    "    \"chad\": 3,\n",
    "    \"dates\": 4,\n",
    "    \"edging\": 5\n",
    "}\n",
    "print(groceries)\n",
    "print(groceries[\"andrew\"])\n",
    "# Dictionary"
   ]
  },
  {
   "cell_type": "code",
   "execution_count": 31,
   "id": "e7159c75",
   "metadata": {},
   "outputs": [
    {
     "name": "stdout",
     "output_type": "stream",
     "text": [
      "1\n"
     ]
    }
   ],
   "source": [
    "import random\n",
    "print(random.randrange(start=1, stop=3))"
   ]
  },
  {
   "cell_type": "code",
   "execution_count": null,
   "id": "cf387187",
   "metadata": {},
   "outputs": [
    {
     "name": "stdout",
     "output_type": "stream",
     "text": [
      "andrew 29\n"
     ]
    }
   ],
   "source": [
    "class GroceryItem:\n",
    "    def __init__(self, name, price):\n",
    "        self.name = name\n",
    "        self.price = price\n",
    "\n",
    "    def print_name(self):\n",
    "        print(self.name)\n",
    "\n",
    "apples = GroceryItem(\"andrew\", 29)\n",
    "\n",
    "print(apples.name, apples.price)\n",
    "# i forgor the name of this what is this"
   ]
  },
  {
   "cell_type": "code",
   "execution_count": 12,
   "id": "eaa0bf2e",
   "metadata": {},
   "outputs": [
    {
     "name": "stdout",
     "output_type": "stream",
     "text": [
      "31.9\n",
      "0\n",
      "Zero result\n",
      "841\n",
      "1.0\n"
     ]
    }
   ],
   "source": [
    "def sum(x,y):\n",
    "    return x + y\n",
    "print(sum(29,2.9))\n",
    "# Addidive Function\n",
    "\n",
    "def sub(x,y):\n",
    "    return x - y\n",
    "print(sub(29, 29))\n",
    "if sub(29, 29) < 0:\n",
    "    print(\"Negative result\")\n",
    "elif sub(29, 29) == 0:\n",
    "    print(\"Zero result\")\n",
    "else:  \n",
    "    print(\"Positive result\")\n",
    "# Subtractive Function\n",
    "\n",
    "multiply_numbers = lambda x, y: x * y\n",
    "print(multiply_numbers(29, 29))\n",
    "# Multiplicative Function\n",
    "\n",
    "divide_numbers = lambda x, y: x / y\n",
    "print(divide_numbers(29, 29))\n",
    "# Divisive Function"
   ]
  },
  {
   "cell_type": "code",
   "execution_count": null,
   "id": "44072e20",
   "metadata": {},
   "outputs": [
    {
     "name": "stdout",
     "output_type": "stream",
     "text": [
      "TI-69 True 5\n"
     ]
    }
   ],
   "source": [
    "class Calculator:\n",
    "    def __init__(self, model, functions, num_buttons):\n",
    "        self.model = model\n",
    "        self.functions = functions\n",
    "        self.num_buttons = num_buttons\n",
    "\n",
    "a = Calculator(\"TI-69\", True, 5)\n",
    "print(a.model, a.functions, a.num_buttons)\n",
    "# HELL\n",
    "    \n",
    "\n",
    "        "
   ]
  },
  {
   "cell_type": "code",
   "execution_count": 2,
   "id": "a5dc9db1",
   "metadata": {},
   "outputs": [
    {
     "name": "stdout",
     "output_type": "stream",
     "text": [
      "Hello World!\n"
     ]
    }
   ],
   "source": [
    "print(\"Hello World!\") # This is a simple Python script that prints \"Hello World!\" to the console. Notice the output is below."
   ]
  }
 ],
 "metadata": {
  "kernelspec": {
   "display_name": "Python 3",
   "language": "python",
   "name": "python3"
  },
  "language_info": {
   "codemirror_mode": {
    "name": "ipython",
    "version": 3
   },
   "file_extension": ".py",
   "mimetype": "text/x-python",
   "name": "python",
   "nbconvert_exporter": "python",
   "pygments_lexer": "ipython3",
   "version": "3.13.5"
  }
 },
 "nbformat": 4,
 "nbformat_minor": 5
}
