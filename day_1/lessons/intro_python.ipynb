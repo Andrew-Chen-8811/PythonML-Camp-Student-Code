{
 "cells": [
  {
   "cell_type": "markdown",
   "id": "e8939e7d",
   "metadata": {},
   "source": [
    "# Introduction to Python and Jupyter\n",
    "\n",
    "Use the ` + Code` button to add a new code cell to execute code in!"
   ]
  },
  {
   "cell_type": "code",
   "execution_count": 2,
   "id": "a5dc9db1",
   "metadata": {},
   "outputs": [
    {
     "name": "stdout",
     "output_type": "stream",
     "text": [
      "Hello World!\n"
     ]
    }
   ],
   "source": [
    "print(\"Hello World!\") # This is a simple Python script that prints \"Hello World!\" to the console. Notice the output is below."
   ]
  }
 ],
 "metadata": {
  "kernelspec": {
   "display_name": "Python 3",
   "language": "python",
   "name": "python3"
  },
  "language_info": {
   "codemirror_mode": {
    "name": "ipython",
    "version": 3
   },
   "file_extension": ".py",
   "mimetype": "text/x-python",
   "name": "python",
   "nbconvert_exporter": "python",
   "pygments_lexer": "ipython3",
   "version": "3.11.11"
  }
 },
 "nbformat": 4,
 "nbformat_minor": 5
}
