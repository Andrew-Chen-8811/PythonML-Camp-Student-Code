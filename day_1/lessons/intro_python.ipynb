{
 "cells": [
  {
   "cell_type": "markdown",
   "id": "e8939e7d",
   "metadata": {},
   "source": [
    "# Introduction to Python and Jupyter\n",
    "\n",
    "Use the ` + Code` button to add a new code cell to execute code in!"
   ]
  },
  {
   "cell_type": "code",
   "execution_count": 14,
   "id": "93cc63ad",
   "metadata": {},
   "outputs": [
    {
     "name": "stdout",
     "output_type": "stream",
     "text": [
      "The sacred number is 29?\n",
      "The sacred statement is Prav is steuuuuuuupitt\n"
     ]
    }
   ],
   "source": [
    "num = 29\n",
    "string = \"Prav is steuuuuuuupitt\"\n",
    "print(f\"The sacred number is {num}?\")\n",
    "print(f\"The sacred statement is {string}\")"
   ]
  },
  {
   "cell_type": "code",
   "execution_count": 21,
   "id": "66fc4a0d",
   "metadata": {},
   "outputs": [
    {
     "name": "stdout",
     "output_type": "stream",
     "text": [
      "32\n",
      "26\n",
      "87\n",
      "9.666666666666666\n",
      "9\n",
      "2\n",
      "24389\n"
     ]
    }
   ],
   "source": [
    "a = 29\n",
    "b = 3\n",
    "add = a + b\n",
    "sub = a - b\n",
    "multiply = a * b\n",
    "divide = a / b\n",
    "floor_divide = a // b\n",
    "modulus = a % b\n",
    "power = a ** b\n",
    "print(add)\n",
    "print (sub)\n",
    "print (multiply)\n",
    "print (divide)\n",
    "print (floor_divide)\n",
    "print (modulus)\n",
    "print (power)"
   ]
  },
  {
   "cell_type": "code",
   "execution_count": null,
   "id": "18805b0f",
   "metadata": {},
   "outputs": [],
   "source": [
    "boolean stuff"
   ]
  },
  {
   "cell_type": "code",
   "execution_count": null,
   "id": "e10b30ef",
   "metadata": {},
   "outputs": [],
   "source": [
    "if stuff"
   ]
  },
  {
   "cell_type": "code",
   "execution_count": 38,
   "id": "fc033389",
   "metadata": {},
   "outputs": [
    {
     "name": "stdout",
     "output_type": "stream",
     "text": [
      "2\n",
      "carrots\n"
     ]
    }
   ],
   "source": [
    "numbers = 2, 13, 17, 29, 42\n",
    "groceries = [\"apples\", \"bananas\", \"carrots\"]\n",
    "print(numbers[0])\n",
    "print(groceries[2])"
   ]
  },
  {
   "cell_type": "code",
   "execution_count": 2,
   "id": "a5dc9db1",
   "metadata": {},
   "outputs": [
    {
     "name": "stdout",
     "output_type": "stream",
     "text": [
      "Hello World!\n"
     ]
    }
   ],
   "source": [
    "print(\"Hello World!\") # This is a simple Python script that prints \"Hello World!\" to the console. Notice the output is below."
   ]
  }
 ],
 "metadata": {
  "kernelspec": {
   "display_name": "Python 3",
   "language": "python",
   "name": "python3"
  },
  "language_info": {
   "codemirror_mode": {
    "name": "ipython",
    "version": 3
   },
   "file_extension": ".py",
   "mimetype": "text/x-python",
   "name": "python",
   "nbconvert_exporter": "python",
   "pygments_lexer": "ipython3",
   "version": "3.13.5"
  }
 },
 "nbformat": 4,
 "nbformat_minor": 5
}
