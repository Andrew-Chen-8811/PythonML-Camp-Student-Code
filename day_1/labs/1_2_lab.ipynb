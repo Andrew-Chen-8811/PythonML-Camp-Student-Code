{
 "cells": [
  {
   "cell_type": "code",
   "execution_count": 1,
   "id": "22495e77",
   "metadata": {},
   "outputs": [],
   "source": [
    "import numpy as np\n",
    "import pandas as pd\n",
    "import matplotlib.pyplot as plt"
   ]
  },
  {
   "cell_type": "markdown",
   "id": "d0c6aa68",
   "metadata": {},
   "source": [
    "## NumPy Practice"
   ]
  },
  {
   "cell_type": "code",
   "execution_count": 2,
   "id": "a3b0f4b6",
   "metadata": {},
   "outputs": [],
   "source": [
    "my_list = [10, 20, 30, 40, 50]"
   ]
  },
  {
   "cell_type": "code",
   "execution_count": null,
   "id": "ec108156",
   "metadata": {},
   "outputs": [
    {
     "name": "stdout",
     "output_type": "stream",
     "text": [
      "[10 20 30 40 50]\n"
     ]
    }
   ],
   "source": [
    "# Convert my_list to a NumPy array and print it\n"
   ]
  },
  {
   "cell_type": "code",
   "execution_count": null,
   "id": "ae8f6529",
   "metadata": {},
   "outputs": [
    {
     "name": "stdout",
     "output_type": "stream",
     "text": [
      "[[1. 1. 1.]\n",
      " [1. 1. 1.]\n",
      " [1. 1. 1.]\n",
      " [1. 1. 1.]]\n"
     ]
    }
   ],
   "source": [
    "# Create a 4x3 array of ones and print it\n"
   ]
  },
  {
   "cell_type": "code",
   "execution_count": null,
   "id": "12e71712",
   "metadata": {},
   "outputs": [
    {
     "name": "stdout",
     "output_type": "stream",
     "text": [
      "[0. 0. 0. 0. 0.]\n"
     ]
    }
   ],
   "source": [
    "# Create a zero vector of size 5 and print it\n"
   ]
  },
  {
   "cell_type": "code",
   "execution_count": null,
   "id": "ddf084ce",
   "metadata": {},
   "outputs": [
    {
     "name": "stdout",
     "output_type": "stream",
     "text": [
      "[ 1.   2.9  4.8  6.7  8.6 10.5 12.4 14.3 16.2 18.1 20. ]\n"
     ]
    }
   ],
   "source": [
    "# Create a NumPy array with values from 1 to 20, with 11 elements, and print it\n"
   ]
  },
  {
   "cell_type": "code",
   "execution_count": 13,
   "id": "35fc9ed6",
   "metadata": {},
   "outputs": [],
   "source": [
    "A = np.array([[2, 4], [6, 8]])\n",
    "B = np.array([[1, 3], [5, 7]])"
   ]
  },
  {
   "cell_type": "code",
   "execution_count": null,
   "id": "d143f442",
   "metadata": {},
   "outputs": [
    {
     "name": "stdout",
     "output_type": "stream",
     "text": [
      "[[ 3  7]\n",
      " [11 15]]\n"
     ]
    }
   ],
   "source": [
    "# Add the two arrays and print the result\n"
   ]
  },
  {
   "cell_type": "code",
   "execution_count": null,
   "id": "067855c9",
   "metadata": {},
   "outputs": [
    {
     "name": "stdout",
     "output_type": "stream",
     "text": [
      "[[1 1]\n",
      " [1 1]]\n"
     ]
    }
   ],
   "source": [
    "# Subtract the two arrays and print the result\n"
   ]
  },
  {
   "cell_type": "code",
   "execution_count": null,
   "id": "1370b466",
   "metadata": {},
   "outputs": [
    {
     "name": "stdout",
     "output_type": "stream",
     "text": [
      "[[ 2 12]\n",
      " [30 56]]\n"
     ]
    }
   ],
   "source": [
    "# Perform element-wise multiplication and print the result\n"
   ]
  },
  {
   "cell_type": "code",
   "execution_count": null,
   "id": "69b3af4c",
   "metadata": {},
   "outputs": [
    {
     "name": "stdout",
     "output_type": "stream",
     "text": [
      "[[2.         1.33333333]\n",
      " [1.2        1.14285714]]\n"
     ]
    }
   ],
   "source": [
    "# Perform element-wise division and print the result\n"
   ]
  },
  {
   "cell_type": "code",
   "execution_count": null,
   "id": "e0a54662",
   "metadata": {},
   "outputs": [
    {
     "name": "stdout",
     "output_type": "stream",
     "text": [
      "[[22 34]\n",
      " [46 74]]\n"
     ]
    }
   ],
   "source": [
    "# Perform matrix multiplication and print the result\n"
   ]
  },
  {
   "cell_type": "code",
   "execution_count": null,
   "id": "7e168e80",
   "metadata": {},
   "outputs": [
    {
     "name": "stdout",
     "output_type": "stream",
     "text": [
      "Sum of A: 20\n",
      "Mean of A: 5.0\n",
      "Standard Deviation of A: 2.23606797749979\n"
     ]
    }
   ],
   "source": [
    "# Calculate the sum, mean, and standard deviation of the matrix A and print them\n"
   ]
  },
  {
   "cell_type": "code",
   "execution_count": null,
   "id": "659bfc4b",
   "metadata": {},
   "outputs": [
    {
     "name": "stdout",
     "output_type": "stream",
     "text": [
      "Last column of A: [4 8]\n"
     ]
    }
   ],
   "source": [
    "# Use slicing to get to the last column of the matrix A and print it\n"
   ]
  },
  {
   "cell_type": "code",
   "execution_count": null,
   "id": "7bef79d4",
   "metadata": {},
   "outputs": [
    {
     "name": "stdout",
     "output_type": "stream",
     "text": [
      "Random 5x5 matrix:\n",
      " [[0.82015173 0.19562831 0.84747361 0.2134565  0.68655101]\n",
      " [0.70829122 0.76905021 0.93319734 0.43113989 0.12625435]\n",
      " [0.24317487 0.46405754 0.39280881 0.28528138 0.23921057]\n",
      " [0.51245515 0.06703823 0.63270219 0.24097817 0.99935783]\n",
      " [0.73941092 0.06961769 0.18300431 0.21713597 0.70727207]]\n"
     ]
    }
   ],
   "source": [
    "# Create a random 5x5 matrix and print it (values will be different each time)\n"
   ]
  },
  {
   "cell_type": "code",
   "execution_count": null,
   "id": "956232ab",
   "metadata": {},
   "outputs": [
    {
     "name": "stdout",
     "output_type": "stream",
     "text": [
      "Maximum value in random matrix: 0.9993578320939004\n",
      "Minimum value in random matrix: 0.0670382293740337\n"
     ]
    }
   ],
   "source": [
    "# Find maximum and minimum values in the random matrix and print them\n"
   ]
  },
  {
   "cell_type": "markdown",
   "id": "00e3c269",
   "metadata": {},
   "source": [
    "## Pandas Practice"
   ]
  },
  {
   "cell_type": "code",
   "execution_count": null,
   "id": "c9201b88",
   "metadata": {},
   "outputs": [
    {
     "name": "stdout",
     "output_type": "stream",
     "text": [
      "Series with custom index:\n",
      " w    100\n",
      "x    200\n",
      "y    300\n",
      "z    400\n",
      "q    500\n",
      "dtype: int64\n"
     ]
    }
   ],
   "source": [
    "# Create a Series using these values and labels, and print it\n",
    "values = [100, 200, 300, 400, 500]\n",
    "labels = ['w', 'x', 'y', 'z', 'q']\n"
   ]
  },
  {
   "cell_type": "code",
   "execution_count": null,
   "id": "fe363dff",
   "metadata": {},
   "outputs": [
    {
     "name": "stdout",
     "output_type": "stream",
     "text": [
      "DataFrame with x and y:\n",
      "            x         y\n",
      "0   1.000000  1.381773\n",
      "1   1.040404  1.368480\n",
      "2   1.080808  1.352954\n",
      "3   1.121212  1.335219\n",
      "4   1.161616  1.315305\n",
      "..       ...       ...\n",
      "95  4.838384 -0.866411\n",
      "96  4.878788 -0.820556\n",
      "97  4.919192 -0.773360\n",
      "98  4.959596 -0.724903\n",
      "99  5.000000 -0.675262\n",
      "\n",
      "[100 rows x 2 columns]\n"
     ]
    }
   ],
   "source": [
    "# Create a dataframe where x ranges from 1 to 5 (you can choose step size) and y = sin(x) + cos(x)\n"
   ]
  },
  {
   "cell_type": "code",
   "execution_count": null,
   "id": "fe625ff8",
   "metadata": {},
   "outputs": [
    {
     "name": "stdout",
     "output_type": "stream",
     "text": [
      "y column of DataFrame:\n",
      " 0     1.381773\n",
      "1     1.368480\n",
      "2     1.352954\n",
      "3     1.335219\n",
      "4     1.315305\n",
      "        ...   \n",
      "95   -0.866411\n",
      "96   -0.820556\n",
      "97   -0.773360\n",
      "98   -0.724903\n",
      "99   -0.675262\n",
      "Name: y, Length: 100, dtype: float64\n"
     ]
    }
   ],
   "source": [
    "# Print only the y column of the dataframe\n"
   ]
  },
  {
   "cell_type": "code",
   "execution_count": null,
   "id": "37562d39",
   "metadata": {},
   "outputs": [
    {
     "name": "stdout",
     "output_type": "stream",
     "text": [
      "Filtered DataFrame where y > 0:\n",
      "            x         y\n",
      "0   1.000000  1.381773\n",
      "1   1.040404  1.368480\n",
      "2   1.080808  1.352954\n",
      "3   1.121212  1.335219\n",
      "4   1.161616  1.315305\n",
      "5   1.202020  1.293243\n",
      "6   1.242424  1.269071\n",
      "7   1.282828  1.242827\n",
      "8   1.323232  1.214555\n",
      "9   1.363636  1.184300\n",
      "10  1.404040  1.152113\n",
      "11  1.444444  1.118044\n",
      "12  1.484848  1.082151\n",
      "13  1.525253  1.044491\n",
      "14  1.565657  1.005127\n",
      "15  1.606061  0.964121\n",
      "16  1.646465  0.921542\n",
      "17  1.686869  0.877459\n",
      "18  1.727273  0.831944\n",
      "19  1.767677  0.785071\n",
      "20  1.808081  0.736916\n",
      "21  1.848485  0.687558\n",
      "22  1.888889  0.637078\n",
      "23  1.929293  0.585559\n",
      "24  1.969697  0.533083\n",
      "25  2.010101  0.479737\n",
      "26  2.050505  0.425609\n",
      "27  2.090909  0.370785\n",
      "28  2.131313  0.315356\n",
      "29  2.171717  0.259413\n",
      "30  2.212121  0.203046\n",
      "31  2.252525  0.146348\n",
      "32  2.292929  0.089411\n",
      "33  2.333333  0.032328\n"
     ]
    }
   ],
   "source": [
    "# Filter your dataframe to only include rows where y > 0 and print the filtered dataframe\n"
   ]
  },
  {
   "cell_type": "markdown",
   "id": "8acc9444",
   "metadata": {},
   "source": [
    "## Matplotlib practice"
   ]
  },
  {
   "cell_type": "code",
   "execution_count": null,
   "id": "22e6e387",
   "metadata": {},
   "outputs": [
    {
     "name": "stdout",
     "output_type": "stream",
     "text": [
      "DataFrame for f(x) = x^2 + 2x + 1:\n",
      "     x  f(x)\n",
      "0   1     4\n",
      "1   2     9\n",
      "2   3    16\n",
      "3   4    25\n",
      "4   5    36\n",
      "5   6    49\n",
      "6   7    64\n",
      "7   8    81\n",
      "8   9   100\n",
      "9  10   121\n"
     ]
    }
   ],
   "source": [
    "# Create a Dataframe for the function f(x) = x^2 + 2x + 1 for x = 1 to 10 (you can choose step size, e.g., 1)\n"
   ]
  },
  {
   "cell_type": "code",
   "execution_count": null,
   "id": "2ec5d489",
   "metadata": {},
   "outputs": [
    {
     "data": {
      "image/png": "[encoded data removed]",
      "text/plain": [
       "<Figure size 1000x500 with 1 Axes>"
      ]
     },
     "metadata": {},
     "output_type": "display_data"
    }
   ],
   "source": [
    "# Plot the y column against x (from the dataframe created above) using matplotlib\n"
   ]
  }
 ],
 "metadata": {
  "kernelspec": {
   "display_name": "Python 3",
   "language": "python",
   "name": "python3"
  },
  "language_info": {
   "codemirror_mode": {
    "name": "ipython",
    "version": 3
   },
   "file_extension": ".py",
   "mimetype": "text/x-python",
   "name": "python",
   "nbconvert_exporter": "python",
   "pygments_lexer": "ipython3",
   "version": "3.11.11"
  }
 },
 "nbformat": 4,
 "nbformat_minor": 5
}
