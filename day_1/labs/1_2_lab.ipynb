{
 "cells": [
  {
   "cell_type": "code",
   "execution_count": 1,
   "id": "22495e77",
   "metadata": {},
   "outputs": [],
   "source": [
    "import numpy as np\n",
    "import pandas as pd\n",
    "import matplotlib.pyplot as plt"
   ]
  },
  {
   "cell_type": "markdown",
   "id": "d0c6aa68",
   "metadata": {},
   "source": [
    "## NumPy Practice"
   ]
  },
  {
   "cell_type": "code",
   "execution_count": null,
   "id": "a3b0f4b6",
   "metadata": {},
   "outputs": [],
   "source": []
  },
  {
   "cell_type": "code",
   "execution_count": null,
   "id": "ec108156",
   "metadata": {},
   "outputs": [
    {
     "name": "stdout",
     "output_type": "stream",
     "text": [
      "[10 20 30 40 50]\n"
     ]
    }
   ],
   "source": [
    "# Convert my_list to a NumPy array and print it\n",
    "my_list = [10, 20, 30, 40, 50]\n",
    "arr = np.array(my_list)\n",
    "print(arr)"
   ]
  },
  {
   "cell_type": "code",
   "execution_count": 26,
   "id": "ae8f6529",
   "metadata": {},
   "outputs": [
    {
     "name": "stdout",
     "output_type": "stream",
     "text": [
      "[[1. 1. 1.]\n",
      " [1. 1. 1.]\n",
      " [1. 1. 1.]\n",
      " [1. 1. 1.]]\n"
     ]
    }
   ],
   "source": [
    "# Create a 4x3 array of ones and print it\n",
    "[[1, 1, 1],\n",
    " [1, 1, 1],\n",
    " [1, 1, 1],\n",
    " [1, 1, 1]]\n",
    "ones_array = np.ones((4, 3))\n",
    "print(ones_array)"
   ]
  },
  {
   "cell_type": "code",
   "execution_count": 27,
   "id": "12e71712",
   "metadata": {},
   "outputs": [
    {
     "name": "stdout",
     "output_type": "stream",
     "text": [
      "[0. 0. 0. 0. 0.]\n"
     ]
    }
   ],
   "source": [
    "# Create a zero vector of size 5 and print it\n",
    "vec = np.zeros(5)\n",
    "print(vec)"
   ]
  },
  {
   "cell_type": "code",
   "execution_count": 28,
   "id": "ddf084ce",
   "metadata": {},
   "outputs": [
    {
     "name": "stdout",
     "output_type": "stream",
     "text": [
      "[ 1.   2.9  4.8  6.7  8.6 10.5 12.4 14.3 16.2 18.1 20. ]\n"
     ]
    }
   ],
   "source": [
    "# Create a NumPy array with values from 1 to 20, with 11 elements, and print it\n",
    "range_array = np.linspace(1, 20, 11)\n",
    "print(range_array)"
   ]
  },
  {
   "cell_type": "code",
   "execution_count": 9,
   "id": "35fc9ed6",
   "metadata": {},
   "outputs": [],
   "source": [
    "A = np.array([[2, 4], [6, 8]])\n",
    "B = np.array([[1, 3], [5, 7]])"
   ]
  },
  {
   "cell_type": "code",
   "execution_count": 30,
   "id": "d143f442",
   "metadata": {},
   "outputs": [
    {
     "name": "stdout",
     "output_type": "stream",
     "text": [
      "[[ 3  7]\n",
      " [11 15]]\n"
     ]
    }
   ],
   "source": [
    "# Add the two arrays and print the result\n",
    "sum_array = A + B\n",
    "print(sum_array)"
   ]
  },
  {
   "cell_type": "code",
   "execution_count": 31,
   "id": "067855c9",
   "metadata": {},
   "outputs": [
    {
     "name": "stdout",
     "output_type": "stream",
     "text": [
      "[[1 1]\n",
      " [1 1]]\n"
     ]
    }
   ],
   "source": [
    "# Subtract the two arrays and print the result\n",
    "sub_array = A - B\n",
    "print(sub_array)"
   ]
  },
  {
   "cell_type": "code",
   "execution_count": 32,
   "id": "1370b466",
   "metadata": {},
   "outputs": [
    {
     "name": "stdout",
     "output_type": "stream",
     "text": [
      "[[ 2 12]\n",
      " [30 56]]\n"
     ]
    }
   ],
   "source": [
    "# Perform element-wise multiplication and print the result\n",
    "sub_array = A * B\n",
    "print(sub_array)"
   ]
  },
  {
   "cell_type": "code",
   "execution_count": 33,
   "id": "69b3af4c",
   "metadata": {},
   "outputs": [
    {
     "name": "stdout",
     "output_type": "stream",
     "text": [
      "[[2.         1.33333333]\n",
      " [1.2        1.14285714]]\n"
     ]
    }
   ],
   "source": [
    "# Perform element-wise division and print the result\n",
    "sub_array = A / B\n",
    "print(sub_array)"
   ]
  },
  {
   "cell_type": "code",
   "execution_count": 34,
   "id": "e0a54662",
   "metadata": {},
   "outputs": [
    {
     "name": "stdout",
     "output_type": "stream",
     "text": [
      "[[22 34]\n",
      " [46 74]]\n"
     ]
    }
   ],
   "source": [
    "# Perform matrix multiplication and print the result\n",
    "sub_array = A @ B\n",
    "print(sub_array)"
   ]
  },
  {
   "cell_type": "code",
   "execution_count": 36,
   "id": "7e168e80",
   "metadata": {},
   "outputs": [
    {
     "name": "stdout",
     "output_type": "stream",
     "text": [
      "Sum: 20, Mean: 5.0, STD Dev: 2.23606797749979\n"
     ]
    }
   ],
   "source": [
    "# Calculate the sum, mean, and standard deviation of the matrix A and print them\n",
    "sum_A = np.sum(A)\n",
    "mean_A = np.mean(A)\n",
    "std_A = np.std(A)\n",
    "print(f\"Sum: {sum_A}, Mean: {mean_A}, STD Dev: {std_A}\")"
   ]
  },
  {
   "cell_type": "code",
   "execution_count": 37,
   "id": "659bfc4b",
   "metadata": {},
   "outputs": [
    {
     "name": "stdout",
     "output_type": "stream",
     "text": [
      "[4 8]\n"
     ]
    }
   ],
   "source": [
    "# Use slicing to get to the last column of the matrix A and print it\n",
    "last_column_A = A[:, -1]\n",
    "print(last_column_A)"
   ]
  },
  {
   "cell_type": "code",
   "execution_count": 38,
   "id": "7bef79d4",
   "metadata": {},
   "outputs": [
    {
     "name": "stdout",
     "output_type": "stream",
     "text": [
      "[[0.21161588 0.65760802 0.07168074 0.90776858 0.35691907]\n",
      " [0.99654508 0.26056143 0.07249658 0.13755895 0.14103039]\n",
      " [0.37141595 0.14114468 0.18366972 0.72608646 0.22493846]\n",
      " [0.68129296 0.28202555 0.3035465  0.44801009 0.29229104]\n",
      " [0.04081099 0.01134745 0.9886989  0.2923024  0.36452157]]\n"
     ]
    }
   ],
   "source": [
    "# Create a random 5x5 matrix and print it (values will be different each time)\n",
    "random_matrix = np.random.rand(5, 5)\n",
    "print(random_matrix)"
   ]
  },
  {
   "cell_type": "code",
   "execution_count": 45,
   "id": "956232ab",
   "metadata": {},
   "outputs": [
    {
     "name": "stdout",
     "output_type": "stream",
     "text": [
      "Max: 0.9965450843107514, Min: 0.011347446943894446\n"
     ]
    }
   ],
   "source": [
    "# Find maximum and minimum values in the random matrix and print them\n",
    "max_value = np.max(random_matrix)\n",
    "min_value = np.min(random_matrix)\n",
    "print(f\"Max: {max_value}, Min: {min_value}\")"
   ]
  },
  {
   "cell_type": "markdown",
   "id": "00e3c269",
   "metadata": {},
   "source": [
    "## Pandas Practice"
   ]
  },
  {
   "cell_type": "code",
   "execution_count": 46,
   "id": "c9201b88",
   "metadata": {},
   "outputs": [
    {
     "name": "stdout",
     "output_type": "stream",
     "text": [
      "w    100\n",
      "x    200\n",
      "y    300\n",
      "z    400\n",
      "q    500\n",
      "dtype: int64\n"
     ]
    }
   ],
   "source": [
    "# Create a Series using these values and labels, and print it\n",
    "values = [100, 200, 300, 400, 500]\n",
    "labels = ['w', 'x', 'y', 'z', 'q']\n",
    "series = pd.Series(values, index=labels)\n",
    "print(series)\n"
   ]
  },
  {
   "cell_type": "code",
   "execution_count": 47,
   "id": "fe363dff",
   "metadata": {},
   "outputs": [
    {
     "name": "stdout",
     "output_type": "stream",
     "text": [
      "   x         y\n",
      "0  1  1.381773\n",
      "1  2  0.493151\n",
      "2  3 -0.848872\n",
      "3  4 -1.410446\n",
      "4  5 -0.675262\n"
     ]
    }
   ],
   "source": [
    "# Create a dataframe where x ranges from 1 to 5 (you can choose step size) and y = sin(x) + cos(x)\n",
    "x = np.arange(1, 6, 1)\n",
    "y = np.sin(x) + np.cos(x)\n",
    "df = pd.DataFrame({'x': x, 'y': y})\n",
    "print(df)"
   ]
  },
  {
   "cell_type": "code",
   "execution_count": 48,
   "id": "fe625ff8",
   "metadata": {},
   "outputs": [
    {
     "name": "stdout",
     "output_type": "stream",
     "text": [
      "          y\n",
      "0  1.381773\n",
      "1  0.493151\n",
      "2 -0.848872\n",
      "3 -1.410446\n",
      "4 -0.675262\n"
     ]
    }
   ],
   "source": [
    "# Print only the y column of the dataframe\n",
    "df = pd.DataFrame({'y': y})\n",
    "print(df)"
   ]
  },
  {
   "cell_type": "code",
   "execution_count": 49,
   "id": "37562d39",
   "metadata": {},
   "outputs": [
    {
     "name": "stdout",
     "output_type": "stream",
     "text": [
      "          y\n",
      "0  1.381773\n",
      "1  0.493151\n"
     ]
    }
   ],
   "source": [
    "# Filter your dataframe to only include rows where y > 0 and print the filtered dataframe\n",
    "filtered_df = df[df['y'] > 0]\n",
    "print(filtered_df)\n"
   ]
  },
  {
   "cell_type": "markdown",
   "id": "8acc9444",
   "metadata": {},
   "source": [
    "## Matplotlib practice"
   ]
  },
  {
   "cell_type": "code",
   "execution_count": 39,
   "id": "22e6e387",
   "metadata": {},
   "outputs": [
    {
     "name": "stdout",
     "output_type": "stream",
     "text": [
      "    x  f(x)\n",
      "0   1     4\n",
      "1   2     9\n",
      "2   3    16\n",
      "3   4    25\n",
      "4   5    36\n",
      "5   6    49\n",
      "6   7    64\n",
      "7   8    81\n",
      "8   9   100\n",
      "9  10   121\n"
     ]
    }
   ],
   "source": [
    "# Create a Dataframe for the function f(x) = x^2 + 2x + 1 for x = 1 to 10 (you can choose step size, e.g., 1)\n",
    "x = np.arange(1, 11, 1)\n",
    "f_x = x**2 + 2*x + 1\n",
    "df_function = pd.DataFrame({'x': x, 'f(x)': f_x})\n",
    "print(df_function)"
   ]
  },
  {
   "cell_type": "code",
   "execution_count": 50,
   "id": "2ec5d489",
   "metadata": {},
   "outputs": [
    {
     "data": {
      "image/png": "[encoded data removed]",
      "text/plain": [
       "<Figure size 1000x500 with 1 Axes>"
      ]
     },
     "metadata": {},
     "output_type": "display_data"
    }
   ],
   "source": [
    "# Plot the y column against x (from the dataframe created above) using matplotlib\n",
    "x = np.arange(1, 11, 1)\n",
    "y = x**2 + 2*x + 1\n",
    "df_math = pd.DataFrame({'x': x, 'y': y})\n",
    "df_math['x'] = x\n",
    "df_math['y'] = y\n",
    "\n",
    "# Plot the DataFrame representing y = 3x + 2\n",
    "\n",
    "plt.figure(figsize=(10, 5))\n",
    "plt.plot(df_math['x'], df_math['y'], label='x^2 + 2x + 1', color='red', marker='o')\n",
    "plt.title('Plot of y = x^2 + 2x + 1')\n",
    "plt.xlabel('x')\n",
    "plt.ylabel('y')\n",
    "plt.legend()\n",
    "plt.grid()\n",
    "plt.show()\n",
    "\n",
    "from aquarel import load_theme\n",
    "\n",
    "theme = load_theme('boxy_dark')\n",
    "theme.apply()"
   ]
  }
 ],
 "metadata": {
  "kernelspec": {
   "display_name": "Python 3",
   "language": "python",
   "name": "python3"
  },
  "language_info": {
   "codemirror_mode": {
    "name": "ipython",
    "version": 3
   },
   "file_extension": ".py",
   "mimetype": "text/x-python",
   "name": "python",
   "nbconvert_exporter": "python",
   "pygments_lexer": "ipython3",
   "version": "3.13.5"
  }
 },
 "nbformat": 4,
 "nbformat_minor": 5
}
