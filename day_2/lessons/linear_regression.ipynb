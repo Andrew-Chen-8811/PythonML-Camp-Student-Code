{
 "cells": [
  {
   "cell_type": "code",
   "execution_count": 1,
   "id": "9af3e0da",
   "metadata": {},
   "outputs": [],
   "source": [
    "# Import necessary libraries\n",
    "from sklearn.linear_model import LinearRegression\n",
    "import numpy as np\n",
    "import pandas as pd\n",
    "import matplotlib.pyplot as plt"
   ]
  },
  {
   "cell_type": "code",
   "execution_count": null,
   "id": "24be26bc",
   "metadata": {},
   "outputs": [],
   "source": [
    "# Read synthetic data from CSV file, get X and y\n",
    "data = pd.read_csv('data/regression_data.csv')\n"
   ]
  },
  {
   "cell_type": "code",
   "execution_count": 8,
   "id": "f963e2f8",
   "metadata": {},
   "outputs": [],
   "source": [
    "# Check the shapes of X and y, notice that the shape of X is (# of data points, # of features) and the shape of y is (# of data points,)"
   ]
  },
  {
   "cell_type": "code",
   "execution_count": 4,
   "id": "4593f37f",
   "metadata": {},
   "outputs": [],
   "source": [
    "# Plot the data\n"
   ]
  },
  {
   "cell_type": "code",
   "execution_count": 5,
   "id": "60523a4c",
   "metadata": {},
   "outputs": [],
   "source": [
    "# Create and train the linear regression model, get the estimated parameters"
   ]
  },
  {
   "cell_type": "code",
   "execution_count": 6,
   "id": "c70a06f5",
   "metadata": {},
   "outputs": [],
   "source": [
    "# generate predictions\n",
    "\n",
    "# plot data and fitted line\n"
   ]
  },
  {
   "cell_type": "code",
   "execution_count": 7,
   "id": "6c7414f5",
   "metadata": {},
   "outputs": [],
   "source": [
    "# Calculate and print the R-squared value\n"
   ]
  }
 ],
 "metadata": {
  "kernelspec": {
   "display_name": "Python 3",
   "language": "python",
   "name": "python3"
  },
  "language_info": {
   "codemirror_mode": {
    "name": "ipython",
    "version": 3
   },
   "file_extension": ".py",
   "mimetype": "text/x-python",
   "name": "python",
   "nbconvert_exporter": "python",
   "pygments_lexer": "ipython3",
   "version": "3.11.11"
  }
 },
 "nbformat": 4,
 "nbformat_minor": 5
}
