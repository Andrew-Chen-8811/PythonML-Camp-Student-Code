{
 "cells": [
  {
   "cell_type": "code",
   "execution_count": 1,
   "id": "a7578683",
   "metadata": {},
   "outputs": [],
   "source": [
    "# Import necessary libraries\n",
    "import pandas as pd\n",
    "from sklearn.linear_model import LogisticRegression\n",
    "import matplotlib.pyplot as plt\n",
    "import numpy as np\n",
    "from sklearn.inspection import DecisionBoundaryDisplay"
   ]
  },
  {
   "cell_type": "code",
   "execution_count": 2,
   "id": "c1caded3",
   "metadata": {},
   "outputs": [
    {
     "data": {
      "text/html": [
       "<div>\n",
       "<style scoped>\n",
       "    .dataframe tbody tr th:only-of-type {\n",
       "        vertical-align: middle;\n",
       "    }\n",
       "\n",
       "    .dataframe tbody tr th {\n",
       "        vertical-align: top;\n",
       "    }\n",
       "\n",
       "    .dataframe thead th {\n",
       "        text-align: right;\n",
       "    }\n",
       "</style>\n",
       "<table border=\"1\" class=\"dataframe\">\n",
       "  <thead>\n",
       "    <tr style=\"text-align: right;\">\n",
       "      <th></th>\n",
       "      <th>culmenLength</th>\n",
       "      <th>culmenDepth</th>\n",
       "      <th>species</th>\n",
       "    </tr>\n",
       "  </thead>\n",
       "  <tbody>\n",
       "    <tr>\n",
       "      <th>0</th>\n",
       "      <td>39.1</td>\n",
       "      <td>18.7</td>\n",
       "      <td>Adelie Penguin</td>\n",
       "    </tr>\n",
       "    <tr>\n",
       "      <th>1</th>\n",
       "      <td>42.6</td>\n",
       "      <td>13.7</td>\n",
       "      <td>Gentoo Penguin</td>\n",
       "    </tr>\n",
       "    <tr>\n",
       "      <th>2</th>\n",
       "      <td>39.5</td>\n",
       "      <td>17.4</td>\n",
       "      <td>Adelie Penguin</td>\n",
       "    </tr>\n",
       "    <tr>\n",
       "      <th>3</th>\n",
       "      <td>49.0</td>\n",
       "      <td>16.1</td>\n",
       "      <td>Gentoo Penguin</td>\n",
       "    </tr>\n",
       "    <tr>\n",
       "      <th>4</th>\n",
       "      <td>40.3</td>\n",
       "      <td>18.0</td>\n",
       "      <td>Adelie Penguin</td>\n",
       "    </tr>\n",
       "  </tbody>\n",
       "</table>\n",
       "</div>"
      ],
      "text/plain": [
       "   culmenLength  culmenDepth         species\n",
       "0          39.1         18.7  Adelie Penguin\n",
       "1          42.6         13.7  Gentoo Penguin\n",
       "2          39.5         17.4  Adelie Penguin\n",
       "3          49.0         16.1  Gentoo Penguin\n",
       "4          40.3         18.0  Adelie Penguin"
      ]
     },
     "execution_count": 2,
     "metadata": {},
     "output_type": "execute_result"
    }
   ],
   "source": [
    "# Read penguins data from CSV file\n",
    "dataset = pd.read_csv(\"data/penguins_dataset.csv\")\n",
    "dataset.head(5)"
   ]
  },
  {
   "cell_type": "code",
   "execution_count": 3,
   "id": "4e069e4f",
   "metadata": {},
   "outputs": [],
   "source": [
    "# Select the features and prediction columns, ensure 'species' is categorical\n"
   ]
  },
  {
   "cell_type": "code",
   "execution_count": 4,
   "id": "3f31505f",
   "metadata": {},
   "outputs": [],
   "source": [
    "# Plot the data\n"
   ]
  },
  {
   "cell_type": "code",
   "execution_count": 5,
   "id": "2061a361",
   "metadata": {},
   "outputs": [],
   "source": [
    "# Create and train the Logistic Regression model on all data\n"
   ]
  },
  {
   "cell_type": "code",
   "execution_count": 6,
   "id": "995690d1",
   "metadata": {},
   "outputs": [],
   "source": [
    "# Plot the data with the computed decision boundary\n"
   ]
  }
 ],
 "metadata": {
  "kernelspec": {
   "display_name": "Python 3",
   "language": "python",
   "name": "python3"
  },
  "language_info": {
   "codemirror_mode": {
    "name": "ipython",
    "version": 3
   },
   "file_extension": ".py",
   "mimetype": "text/x-python",
   "name": "python",
   "nbconvert_exporter": "python",
   "pygments_lexer": "ipython3",
   "version": "3.11.11"
  }
 },
 "nbformat": 4,
 "nbformat_minor": 5
}
